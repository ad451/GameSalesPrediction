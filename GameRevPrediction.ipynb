{
  "nbformat": 4,
  "nbformat_minor": 0,
  "metadata": {
    "colab": {
      "provenance": [],
      "authorship_tag": "ABX9TyOueuLpv/4VtFrqV48l6Im8",
      "include_colab_link": true
    },
    "kernelspec": {
      "name": "python3",
      "display_name": "Python 3"
    },
    "language_info": {
      "name": "python"
    }
  },
  "cells": [
    {
      "cell_type": "markdown",
      "metadata": {
        "id": "view-in-github",
        "colab_type": "text"
      },
      "source": [
        "<a href=\"https://colab.research.google.com/github/ad451/GameSalesPrediction/blob/main/GameRevPrediction.ipynb\" target=\"_parent\"><img src=\"https://colab.research.google.com/assets/colab-badge.svg\" alt=\"Open In Colab\"/></a>"
      ]
    },
    {
      "cell_type": "markdown",
      "source": [
        "\n",
        "**Importing the required modules**"
      ],
      "metadata": {
        "id": "R0ZiX38bsGX1"
      }
    },
    {
      "cell_type": "code",
      "execution_count": null,
      "metadata": {
        "id": "_uaPC-Ghr7ZH"
      },
      "outputs": [],
      "source": [
        "import pandas as pd\n",
        "import numpy as np\n",
        "import matplotlib.pyplot as plt\n",
        "import requests\n",
        "import random\n",
        "from bs4 import BeautifulSoup\n",
        "import time\n",
        "import warnings; warnings.simplefilter('ignore')\n",
        "import re\n",
        "import string\n",
        "from collections import Counter\n",
        "# from google.colab import files\n",
        "from tqdm import tqdm\n",
        "import json\n",
        "\n",
        "\n",
        "import nltk\n",
        "from nltk.corpus import stopwords\n",
        "from nltk.stem.wordnet import WordNetLemmatizer\n",
        "from nltk import pos_tag\n",
        "from nltk.tokenize import word_tokenize\n",
        "from gensim.models import Word2Vec\n",
        "import gensim\n",
        "\n",
        "from sklearn.utils import shuffle\n",
        "from sklearn.feature_extraction.text import CountVectorizer, TfidfVectorizer\n",
        "from sklearn.model_selection import train_test_split\n",
        "from sklearn.utils.class_weight import compute_sample_weight\n",
        "from sklearn.linear_model import LogisticRegression, LogisticRegressionCV\n",
        "from sklearn.metrics import accuracy_score, precision_score, recall_score, f1_score,jaccard_score\n",
        "from sklearn.multiclass import OneVsRestClassifier\n",
        "from sklearn import model_selection, naive_bayes, svm\n",
        "from sklearn.model_selection import GridSearchCV\n",
        "from sklearn.preprocessing import LabelEncoder\n",
        "from sklearn.preprocessing import MinMaxScaler #fixed import\n",
        "from imblearn.over_sampling import RandomOverSampler\n",
        "from sklearn.ensemble import RandomForestClassifier\n",
        "from xgboost import XGBClassifier\n",
        "\n",
        "\n",
        "import tensorflow as tf\n",
        "from tensorflow.keras.regularizers import l2\n",
        "from tensorflow.keras.preprocessing.text import Tokenizer\n",
        "from tensorflow.keras.preprocessing.sequence import pad_sequences\n",
        "from tensorflow.keras.models import Sequential\n",
        "from tensorflow.keras.layers import Embedding, LSTM, Dense,Dropout\n",
        "from tensorflow.keras.callbacks import EarlyStopping\n",
        "from tensorflow.keras.wrappers.scikit_learn import KerasClassifier\n",
        "from tensorflow.keras.utils import to_categorical\n",
        "\n",
        "\n",
        "# from transformers import TFAutoModel, AutoTokenizer\n",
        "\n",
        "\n",
        "nltk.download('averaged_perceptron_tagger') # required for parts of speech\n",
        "nltk.download('wordnet') # required for parts of speech\n",
        "nltk.download('stopwords') #download the stopwords\n"
      ]
    },
    {
      "cell_type": "markdown",
      "source": [
        "**Web scraping code to fetch the dataset**"
      ],
      "metadata": {
        "id": "xaMEDyW_Z-Hc"
      }
    },
    {
      "cell_type": "code",
      "source": [
        "#using steam api to get all the appids of games on steam\n",
        "response=requests.get(\"http://api.steampowered.com/ISteamApps/GetAppList/v2/\",params={\"key\":\"214686B072B257C9DA4783FB01284E06\",\"format\":\"json\"})\n",
        "\n",
        "response=response.json() #converting into json\n",
        "\n",
        "\n",
        "AppIds=response['applist']['apps']\n",
        "\n",
        "for idx,AppId in enumerate(AppIds):\n",
        "      if AppId['name']==\"\":\n",
        "            continue\n",
        "      appid=AppId['appid']\n",
        "\n",
        "      app_response=requests.get(\"https://store.steampowered.com/api/appdetails/\",params={\"appids\":AppId['appid']}) #getting details about the game from appid\n",
        "      App_data = app_response.json()\n",
        "\n",
        "      try:\n",
        "        appid=list(App_data.keys())[0]\n",
        "        print(App_data[appid]['success'])\n",
        "        if (App_data[appid]['success']):\n",
        "            developers=App_data[appid]['data']['developers']\n",
        "            publishers=App_data[appid]['data']['publishers']\n",
        "            name=App_data[appid]['data']['name']\n",
        "            release_date=App_data[appid]['data']['release_date']\n",
        "            genres=App_data[appid]['data']['genres']\n",
        "            #Here the code should be written to fetch the followers and the total reviews and the total number of positive reviews from steamdb\n",
        "\n",
        "\n",
        "      except:\n",
        "        continue\n",
        "\n"
      ],
      "metadata": {
        "id": "WB2J6j_fvbtR"
      },
      "execution_count": null,
      "outputs": []
    }
  ]
}